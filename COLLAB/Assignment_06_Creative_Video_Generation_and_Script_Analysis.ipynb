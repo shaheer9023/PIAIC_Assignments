{
  "nbformat": 4,
  "nbformat_minor": 0,
  "metadata": {
    "colab": {
      "provenance": [],
      "authorship_tag": "ABX9TyNhRYJFcUA6ZoNQo1PH0KzP",
      "include_colab_link": true
    },
    "kernelspec": {
      "name": "python3",
      "display_name": "Python 3"
    },
    "language_info": {
      "name": "python"
    }
  },
  "cells": [
    {
      "cell_type": "markdown",
      "metadata": {
        "id": "view-in-github",
        "colab_type": "text"
      },
      "source": [
        "<a href=\"https://colab.research.google.com/github/shaheer9023/PIAIC_Assignments/blob/main/Assignment_06_Creative_Video_Generation_and_Script_Analysis.ipynb\" target=\"_parent\"><img src=\"https://colab.research.google.com/assets/colab-badge.svg\" alt=\"Open In Colab\"/></a>"
      ]
    },
    {
      "cell_type": "code",
      "source": [
        "from google.colab import userdata\n",
        "key=userdata.get('2.O_exp')"
      ],
      "metadata": {
        "id": "07ppVlzTOT7t"
      },
      "execution_count": 29,
      "outputs": []
    },
    {
      "cell_type": "code",
      "source": [
        "!pip install langchain_google_genai"
      ],
      "metadata": {
        "collapsed": true,
        "id": "dvpnD4BBOdKp"
      },
      "execution_count": null,
      "outputs": []
    },
    {
      "cell_type": "code",
      "source": [
        "from langchain_google_genai import ChatGoogleGenerativeAI"
      ],
      "metadata": {
        "id": "JaZfWfldOnaV"
      },
      "execution_count": 32,
      "outputs": []
    },
    {
      "cell_type": "code",
      "source": [
        "llm =  ChatGoogleGenerativeAI(\n",
        "    api_key = key,\n",
        "    model = \"gemini-2.0-flash-exp\",\n",
        ")"
      ],
      "metadata": {
        "id": "KmSiAcwVDnbt"
      },
      "execution_count": 33,
      "outputs": []
    },
    {
      "cell_type": "code",
      "source": [
        "from google.colab import files\n",
        "\n",
        "# Upload a video file\n",
        "uploaded = files.upload()\n",
        "\n",
        "# List the uploaded files\n",
        "for filename in uploaded.keys():\n",
        "    print(f\"Uploaded file: {filename}\")\n"
      ],
      "metadata": {
        "colab": {
          "base_uri": "https://localhost:8080/",
          "height": 109
        },
        "id": "PGw1hGHPRjXZ",
        "outputId": "ccf52925-8a31-437b-ddc4-1d0baaf1c216"
      },
      "execution_count": 34,
      "outputs": [
        {
          "output_type": "display_data",
          "data": {
            "text/plain": [
              "<IPython.core.display.HTML object>"
            ],
            "text/html": [
              "\n",
              "     <input type=\"file\" id=\"files-f1c4e27a-9978-4f88-b9fa-610b878a6fd7\" name=\"files[]\" multiple disabled\n",
              "        style=\"border:none\" />\n",
              "     <output id=\"result-f1c4e27a-9978-4f88-b9fa-610b878a6fd7\">\n",
              "      Upload widget is only available when the cell has been executed in the\n",
              "      current browser session. Please rerun this cell to enable.\n",
              "      </output>\n",
              "      <script>// Copyright 2017 Google LLC\n",
              "//\n",
              "// Licensed under the Apache License, Version 2.0 (the \"License\");\n",
              "// you may not use this file except in compliance with the License.\n",
              "// You may obtain a copy of the License at\n",
              "//\n",
              "//      http://www.apache.org/licenses/LICENSE-2.0\n",
              "//\n",
              "// Unless required by applicable law or agreed to in writing, software\n",
              "// distributed under the License is distributed on an \"AS IS\" BASIS,\n",
              "// WITHOUT WARRANTIES OR CONDITIONS OF ANY KIND, either express or implied.\n",
              "// See the License for the specific language governing permissions and\n",
              "// limitations under the License.\n",
              "\n",
              "/**\n",
              " * @fileoverview Helpers for google.colab Python module.\n",
              " */\n",
              "(function(scope) {\n",
              "function span(text, styleAttributes = {}) {\n",
              "  const element = document.createElement('span');\n",
              "  element.textContent = text;\n",
              "  for (const key of Object.keys(styleAttributes)) {\n",
              "    element.style[key] = styleAttributes[key];\n",
              "  }\n",
              "  return element;\n",
              "}\n",
              "\n",
              "// Max number of bytes which will be uploaded at a time.\n",
              "const MAX_PAYLOAD_SIZE = 100 * 1024;\n",
              "\n",
              "function _uploadFiles(inputId, outputId) {\n",
              "  const steps = uploadFilesStep(inputId, outputId);\n",
              "  const outputElement = document.getElementById(outputId);\n",
              "  // Cache steps on the outputElement to make it available for the next call\n",
              "  // to uploadFilesContinue from Python.\n",
              "  outputElement.steps = steps;\n",
              "\n",
              "  return _uploadFilesContinue(outputId);\n",
              "}\n",
              "\n",
              "// This is roughly an async generator (not supported in the browser yet),\n",
              "// where there are multiple asynchronous steps and the Python side is going\n",
              "// to poll for completion of each step.\n",
              "// This uses a Promise to block the python side on completion of each step,\n",
              "// then passes the result of the previous step as the input to the next step.\n",
              "function _uploadFilesContinue(outputId) {\n",
              "  const outputElement = document.getElementById(outputId);\n",
              "  const steps = outputElement.steps;\n",
              "\n",
              "  const next = steps.next(outputElement.lastPromiseValue);\n",
              "  return Promise.resolve(next.value.promise).then((value) => {\n",
              "    // Cache the last promise value to make it available to the next\n",
              "    // step of the generator.\n",
              "    outputElement.lastPromiseValue = value;\n",
              "    return next.value.response;\n",
              "  });\n",
              "}\n",
              "\n",
              "/**\n",
              " * Generator function which is called between each async step of the upload\n",
              " * process.\n",
              " * @param {string} inputId Element ID of the input file picker element.\n",
              " * @param {string} outputId Element ID of the output display.\n",
              " * @return {!Iterable<!Object>} Iterable of next steps.\n",
              " */\n",
              "function* uploadFilesStep(inputId, outputId) {\n",
              "  const inputElement = document.getElementById(inputId);\n",
              "  inputElement.disabled = false;\n",
              "\n",
              "  const outputElement = document.getElementById(outputId);\n",
              "  outputElement.innerHTML = '';\n",
              "\n",
              "  const pickedPromise = new Promise((resolve) => {\n",
              "    inputElement.addEventListener('change', (e) => {\n",
              "      resolve(e.target.files);\n",
              "    });\n",
              "  });\n",
              "\n",
              "  const cancel = document.createElement('button');\n",
              "  inputElement.parentElement.appendChild(cancel);\n",
              "  cancel.textContent = 'Cancel upload';\n",
              "  const cancelPromise = new Promise((resolve) => {\n",
              "    cancel.onclick = () => {\n",
              "      resolve(null);\n",
              "    };\n",
              "  });\n",
              "\n",
              "  // Wait for the user to pick the files.\n",
              "  const files = yield {\n",
              "    promise: Promise.race([pickedPromise, cancelPromise]),\n",
              "    response: {\n",
              "      action: 'starting',\n",
              "    }\n",
              "  };\n",
              "\n",
              "  cancel.remove();\n",
              "\n",
              "  // Disable the input element since further picks are not allowed.\n",
              "  inputElement.disabled = true;\n",
              "\n",
              "  if (!files) {\n",
              "    return {\n",
              "      response: {\n",
              "        action: 'complete',\n",
              "      }\n",
              "    };\n",
              "  }\n",
              "\n",
              "  for (const file of files) {\n",
              "    const li = document.createElement('li');\n",
              "    li.append(span(file.name, {fontWeight: 'bold'}));\n",
              "    li.append(span(\n",
              "        `(${file.type || 'n/a'}) - ${file.size} bytes, ` +\n",
              "        `last modified: ${\n",
              "            file.lastModifiedDate ? file.lastModifiedDate.toLocaleDateString() :\n",
              "                                    'n/a'} - `));\n",
              "    const percent = span('0% done');\n",
              "    li.appendChild(percent);\n",
              "\n",
              "    outputElement.appendChild(li);\n",
              "\n",
              "    const fileDataPromise = new Promise((resolve) => {\n",
              "      const reader = new FileReader();\n",
              "      reader.onload = (e) => {\n",
              "        resolve(e.target.result);\n",
              "      };\n",
              "      reader.readAsArrayBuffer(file);\n",
              "    });\n",
              "    // Wait for the data to be ready.\n",
              "    let fileData = yield {\n",
              "      promise: fileDataPromise,\n",
              "      response: {\n",
              "        action: 'continue',\n",
              "      }\n",
              "    };\n",
              "\n",
              "    // Use a chunked sending to avoid message size limits. See b/62115660.\n",
              "    let position = 0;\n",
              "    do {\n",
              "      const length = Math.min(fileData.byteLength - position, MAX_PAYLOAD_SIZE);\n",
              "      const chunk = new Uint8Array(fileData, position, length);\n",
              "      position += length;\n",
              "\n",
              "      const base64 = btoa(String.fromCharCode.apply(null, chunk));\n",
              "      yield {\n",
              "        response: {\n",
              "          action: 'append',\n",
              "          file: file.name,\n",
              "          data: base64,\n",
              "        },\n",
              "      };\n",
              "\n",
              "      let percentDone = fileData.byteLength === 0 ?\n",
              "          100 :\n",
              "          Math.round((position / fileData.byteLength) * 100);\n",
              "      percent.textContent = `${percentDone}% done`;\n",
              "\n",
              "    } while (position < fileData.byteLength);\n",
              "  }\n",
              "\n",
              "  // All done.\n",
              "  yield {\n",
              "    response: {\n",
              "      action: 'complete',\n",
              "    }\n",
              "  };\n",
              "}\n",
              "\n",
              "scope.google = scope.google || {};\n",
              "scope.google.colab = scope.google.colab || {};\n",
              "scope.google.colab._files = {\n",
              "  _uploadFiles,\n",
              "  _uploadFilesContinue,\n",
              "};\n",
              "})(self);\n",
              "</script> "
            ]
          },
          "metadata": {}
        },
        {
          "output_type": "stream",
          "name": "stdout",
          "text": [
            "Saving y2mate.com - Step Into the Action  Watch this Professional 4K Trailer Now_720pHF.mp4 to y2mate.com - Step Into the Action  Watch this Professional 4K Trailer Now_720pHF (2).mp4\n",
            "Uploaded file: y2mate.com - Step Into the Action  Watch this Professional 4K Trailer Now_720pHF (2).mp4\n"
          ]
        }
      ]
    },
    {
      "cell_type": "code",
      "source": [
        "from google import genai\n",
        "from google.genai import Client"
      ],
      "metadata": {
        "id": "VfjwUtvZSq87"
      },
      "execution_count": 35,
      "outputs": []
    },
    {
      "cell_type": "code",
      "source": [
        "llm =  ChatGoogleGenerativeAI(\n",
        "    api_key = key,\n",
        "    model = \"gemini-2.0-flash-exp\",\n",
        ")"
      ],
      "metadata": {
        "id": "ss9-i6IqaP-W"
      },
      "execution_count": 36,
      "outputs": []
    },
    {
      "cell_type": "code",
      "source": [
        "client:Client=genai.Client(\n",
        "    api_key=key,\n",
        "    )\n",
        "model:str =\"gemini-2.0-flash-exp\"\n"
      ],
      "metadata": {
        "id": "beRUMJIlTatx"
      },
      "execution_count": 37,
      "outputs": []
    },
    {
      "cell_type": "code",
      "source": [
        "\n",
        "import time\n",
        "\n",
        "def upload_video(video_file_name):\n",
        "  video_file = client.files.upload(path=\"/content/y2mate.com - Step Into the Action  Watch this Professional 4K Trailer Now_720pHF.mp4\")\n",
        "  while video_file.state == \"PROCESSING\":\n",
        "      print('Waiting for video to be processed.')\n",
        "      time.sleep(10)\n",
        "      video_file = client.files.get(name=video_file.name or \"\")\n",
        "\n",
        "  if video_file.state == \"FAILED\":\n",
        "    raise ValueError(video_file.state)\n",
        "  print(f'Video processing complete: ' + (video_file.uri or \"\"))\n",
        "\n",
        "  return video_file\n",
        "\n",
        "pottery_video = upload_video('pottery.mp4')"
      ],
      "metadata": {
        "colab": {
          "base_uri": "https://localhost:8080/"
        },
        "id": "8YfmPzTtUhgr",
        "outputId": "ca48bcd2-867e-4399-9ab4-4dfb6a2f81ab"
      },
      "execution_count": 38,
      "outputs": [
        {
          "output_type": "stream",
          "name": "stdout",
          "text": [
            "Waiting for video to be processed.\n",
            "Video processing complete: https://generativelanguage.googleapis.com/v1beta/files/mlsay52zo5tu\n"
          ]
        }
      ]
    },
    {
      "cell_type": "code",
      "source": [
        "from IPython.display import display, Audio ,Markdown\n"
      ],
      "metadata": {
        "id": "Kx5Xh3RVYE_K"
      },
      "execution_count": 39,
      "outputs": []
    },
    {
      "cell_type": "code",
      "source": [
        "from google.genai.types import Content,Part"
      ],
      "metadata": {
        "id": "jNNgBYlfNEHR"
      },
      "execution_count": 45,
      "outputs": []
    },
    {
      "cell_type": "code",
      "source": [
        "def generate_video_captions(video):\n",
        "\n",
        "    # Predefined model and client\n",
        "    model = \"gemini-2.0-flash-exp\"  # Replace with your actual model name\n",
        "    client: Client = genai.Client(\n",
        "    api_key=key,\n",
        "    )\n",
        "    prompt = \"\"\"For each scene in this video,\n",
        "                generate captions that describe the scene, along with spoken text.\n",
        "                Place each caption into an object with the timecode of the caption in the video.\n",
        "             \"\"\"\n",
        "\n",
        "    # Generate content using the API\n",
        "    response = client.models.generate_content(\n",
        "        model=model,\n",
        "        contents=[\n",
        "            Content(\n",
        "                role=\"user\",\n",
        "                parts=[\n",
        "                    Part.from_uri(\n",
        "                        file_uri=video.uri or \"\",\n",
        "                        mime_type=video.mime_type or \"\"\n",
        "                    ),\n",
        "                ]\n",
        "            ),\n",
        "            prompt,\n",
        "        ]\n",
        "    )\n",
        "\n",
        "    # Extract and format the response as Markdown\n",
        "    scenes = response.text\n",
        "    return Markdown(scenes)\n",
        "\n"
      ],
      "metadata": {
        "id": "A4K1vdezYNvX"
      },
      "execution_count": 46,
      "outputs": []
    },
    {
      "cell_type": "code",
      "source": [
        "generate_video_captions(pottery_video)"
      ],
      "metadata": {
        "colab": {
          "base_uri": "https://localhost:8080/",
          "height": 1000
        },
        "id": "v_PEHqWrNe9d",
        "outputId": "4bfd19c1-3c09-48f9-96e1-a2171b726973"
      },
      "execution_count": 49,
      "outputs": [
        {
          "output_type": "execute_result",
          "data": {
            "text/plain": [
              "<IPython.core.display.Markdown object>"
            ],
            "text/markdown": "Certainly! Here are the captions with timecodes and spoken text for each scene in the provided video:\n\n```json\n[\n  {\n    \"timecode\": \"00:00\",\n    \"caption\": \"A black screen appears.\",\n    \"spoken_text\": \"\"\n  },\n{\n    \"timecode\": \"00:00\",\n    \"caption\": \"The word 'NEW' appears in white text on a black screen.\",\n    \"spoken_text\": \"\"\n  },\n  {\n    \"timecode\": \"00:01\",\n     \"caption\": \"The word 'PRESENTS' appears in white text on a black screen.\",\n    \"spoken_text\": \"\"\n  },\n  {\n    \"timecode\": \"00:03\",\n    \"caption\": \"The text 'PROFESSIONAL TRAILER' appears in white text on a black screen with gray smoke in the background.\",\n    \"spoken_text\": \"\"\n   },\n  {\n    \"timecode\": \"00:10\",\n    \"caption\": \"An overhead view of a roundabout with cars circulating. There are trees and buildings around the road.\",\n    \"spoken_text\": \"\"\n  },\n{\n    \"timecode\": \"00:16\",\n    \"caption\": \"A close-up shot of a clock face with the second hand moving.\",\n     \"spoken_text\": \"\"\n  },\n  {\n    \"timecode\": \"00:19\",\n    \"caption\": \"A woman holding fire torches walks slowly towards the camera.\",\n    \"spoken_text\": \"\"\n },\n   {\n    \"timecode\": \"00:21\",\n    \"caption\": \"A close-up shot of a clock face with the second hand moving.\",\n     \"spoken_text\": \"\"\n  },\n   {\n    \"timecode\": \"00:24\",\n    \"caption\": \"A woman holding fire torches walks slowly towards the camera.\",\n    \"spoken_text\": \"\"\n },\n  {\n    \"timecode\": \"00:26\",\n    \"caption\": \"An overhead view of a street and a person walking.\",\n    \"spoken_text\": \"\"\n  },\n  {\n    \"timecode\": \"00:27\",\n   \"caption\": \"An aerial night shot of an intersection. Cars travel in each direction, leaving light trails.\",\n    \"spoken_text\": \"\"\n  },\n  {\n   \"timecode\": \"00:31\",\n    \"caption\":\"An overhead view of a street and a person walking.\",\n    \"spoken_text\": \"\"\n  },\n  {\n    \"timecode\":\"00:32\",\n    \"caption\":\"A young man in an olive green jacket looks into a car.\",\n    \"spoken_text\": \"\"\n  },\n  {\n     \"timecode\":\"00:33\",\n    \"caption\":\"The word 'SOON' appears in white text on a black screen.\",\n    \"spoken_text\": \"\"\n },\n  {\n     \"timecode\":\"00:34\",\n    \"caption\":\"A young man in an olive green jacket looks into a car.\",\n    \"spoken_text\": \"\"\n },\n {\n    \"timecode\": \"00:35\",\n    \"caption\": \"The text 'THIS SUMMER' appears in white text on a black screen.\",\n    \"spoken_text\": \"\"\n  },\n{\n    \"timecode\":\"00:36\",\n    \"caption\":\"A shot of a table with various crime scene photos.\",\n     \"spoken_text\": \"\"\n },\n {\n    \"timecode\":\"00:37\",\n    \"caption\":\"An arrested person with hands cuffed. A police officer is in the background.\",\n    \"spoken_text\": \"\"\n },\n {\n   \"timecode\": \"00:39\",\n    \"caption\": \"The word 'ENJOY' appears in white text on a shot of a skyline at night.\",\n    \"spoken_text\": \"\"\n  },\n {\n    \"timecode\": \"00:41\",\n    \"caption\": \"The words 'THE 3D' appear on the skyline at night.\",\n     \"spoken_text\": \"\"\n  },\n {\n  \"timecode\": \"00:42\",\n  \"caption\": \"A low angle shot of a long straight road with trees on each side.\",\n  \"spoken_text\": \"\"\n },\n  {\n    \"timecode\": \"00:43\",\n    \"caption\":\"A black Lamborghini speeds down a road.\",\n     \"spoken_text\": \"\"\n   },\n    {\n    \"timecode\": \"00:46\",\n   \"caption\": \"A car speeds away in a cloud of dust.\",\n    \"spoken_text\": \"\"\n  },\n {\n    \"timecode\": \"00:47\",\n    \"caption\": \"The word 'ENJOY' appears in white text over a shattering glass animation.\",\n    \"spoken_text\": \"\"\n  },\n{\n \"timecode\":\"00:51\",\n \"caption\": \"The words 'SUBSCRIBE NOW' appear in white sparkle text against a dark smoky background\",\n  \"spoken_text\": \"\"\n }\n]\n```"
          },
          "metadata": {},
          "execution_count": 49
        }
      ]
    }
  ]
}